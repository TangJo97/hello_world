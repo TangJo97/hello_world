{
 "cells": [
  {
   "cell_type": "markdown",
   "metadata": {
    "toc": true
   },
   "source": [
    "<h1>Table of Contents<span class=\"tocSkip\"></span></h1>\n",
    "<div class=\"toc\"><ul class=\"toc-item\"></ul></div>"
   ]
  },
  {
   "cell_type": "code",
   "execution_count": 127,
   "metadata": {},
   "outputs": [],
   "source": [
    "from matplotlib import pyplot as plt\n",
    "import seaborn as sns\n",
    "import pandas as pd\n",
    "from datetime import datetime as dt\n",
    "import numpy as np\n",
    "\n",
    "\n",
    "def to_month(x, idx_date, idx):\n",
    "    val = [x[i] for i in idx]\n",
    "    datum = dt.strptime(x[idx_date], '%Y-%m-%d %H:%M:%S')\n",
    "    date_month = dt.strftime(datum, '%Y-%m')\n",
    "    out = (date_month, val)\n",
    "    return(out)\n",
    "\n",
    "\n",
    "def plotting(datas, title, colors = [\"yellow\", \"green\", \"orange\", \"red\"], \n",
    "            labels = [\"Yellow Taxis\", \"Green Taxis\" , \"FHV\", \"FHVHV\"], title_position = (0.4, 1.05)\n",
    "            , legend_position = \"lower_right\"):\n",
    "    fig, axs = plt.subplots()\n",
    "    sns.set_style(\"white\")\n",
    "    axs.spines[\"bottom\"].set_color(\"Gray\")\n",
    "    axs.spines[\"left\"].set_color(\"Gray\")\n",
    "    axs.spines[\"bottom\"].set_alpha(0.7)\n",
    "    axs.spines[\"left\"].set_alpha(0.7)\n",
    "    sns.despine()\n",
    "    axs.set_title(title, x = title_position[0], y = title_position[1],\n",
    "                 fontsize = 16, alpha = 0.7, color = \"gray\")\n",
    "    plt.xticks(fontsize = 8, color = \"gray\", alpha = 0.7)\n",
    "    plt.yticks(fontsize = 8, color = \"gray\", alpha = 0.7)\n",
    "    \n",
    "    for data, color, label in zip(datas, colors, labels):\n",
    "        date, count = map(tuple, zip(*data))\n",
    "        axs.plot(date, count, alpha = 0.35, c = color, linewidth = 4, label = label)\n",
    "        \n",
    "    plt.legend(loc = legend_position)\n",
    "    \n"
   ]
  },
  {
   "cell_type": "code",
   "execution_count": 15,
   "metadata": {},
   "outputs": [],
   "source": [
    "repaired_yellow = [\"1,2015-03-02 14:14:14,2015-03-02 15:15:15,2,2.3,3,N,11,12,4,0.2,0.5,0.5,0.1,0.35,0.3,2.45,0.1\".split(\",\"),\n",
    "                  \"1,2015-03-03 14:14:14,2015-03-03 15:15:15,1,4.1,3,N,9,20,4,0.2,0.5,0.5,0.1,0.35,0.3,3.45,0.1\".split(\",\"),\n",
    "                  \"1,2015-03-04 14:14:14,2015-03-04 15:22:15,1,5.2,3,N,89,78,4,0.2,0.5,0.5,0.1,0.35,0.3,5.45,0.1\".split(\",\"),\n",
    "                   \"1,2017-03-04 14:14:14,2017-03-04 15:21:15,4,4.5,3,N,32,27,4,0.2,0.5,0.5,0.1,0.35,0.3,2.45,0.1\".split(\",\"),\n",
    "                   \"1,2017-05-04 14:14:14,2017-05-04 15:34:15,8,3.4,3,N,51,31,4,0.2,0.5,0.5,0.1,0.35,0.3,7.45,0.1\".split(\",\"),\n",
    "                   \"1,2017-05-04 14:14:14,2017-05-04 15:51:15,2,8.1,3,N,29,35,4,0.2,0.5,0.5,0.1,0.35,0.3,2.25,0.1\".split(\",\"),\n",
    "                   \"1,2017-05-04 14:14:14,2017-05-04 15:27:15,2,7.2,3,N,99,102,4,0.2,0.5,0.5,0.1,0.35,0.3,3.35,0.1\".split(\",\"),\n",
    "                   \"1,2018-01-04 14:14:14,2018-01-04 15:12:15,1,9.2,3,N,101,108,4,0.2,0.5,0.5,0.1,0.35,0.3,6.22,0.1\".split(\",\"),\n",
    "                   \"1,2018-01-04 14:14:14,2018-01-04 15:05:15,1,3.2,3,N,67,74,4,0.2,0.5,0.5,0.1,0.35,0.3,2.67,0.1\".split(\",\"),\n",
    "                   \"1,2018-01-04 14:14:14,2018-01-04 15:11:15,1,2.2,3,N,90,93,4,0.2,0.5,0.5,0.1,0.35,0.3,1.25,0.1\".split(\",\"),\n",
    "                   \"1,2020-03-04 14:14:14,2020-03-04 15:34:15,1,1.2,3,N,21,25,4,0.2,0.5,0.5,0.1,0.35,0.3,2.38,0.1\".split(\",\"),\n",
    "                   \"1,2020-03-04 14:14:14,2020-03-04 15:46:15,1,9.2,3,N,20,17,4,0.2,0.5,0.5,0.1,0.35,0.3,1.45,0.1\".split(\",\")\n",
    "                  ]\n",
    "\n",
    "\n",
    "\n",
    "\n",
    "repaired_green = [\"1,2017-05-04 14:14:14,2017-05-04 15:34:15,Y,1,25,31,1,3.2,2.2,0.5,0.5,0.2,0.4,0,3.1,1,1,0\".split(\",\"),\n",
    "                   \"1,2017-05-04 14:14:14,2017-05-04 15:51:15,Y,1,87,92,1,2.5,0.5,0.5,0.26,0.4,0,5.5,1,1,0\".split(\",\"),\n",
    "                   \"1,2017-05-04 14:14:14,2017-05-04 15:27:15,Y,1,12,15,1,2.2,0.5,0.5,0.32,0.4,0,2.2,1,1,0\".split(\",\"),\n",
    "                   \"1,2018-01-04 14:14:14,2018-01-04 15:12:15,Y,1,16,16,1,4.5,0.5,0.5,0.51,0.4,0,8.9,1,1,0\".split(\",\"),\n",
    "                   \"1,2018-01-04 14:14:14,2018-01-04 15:05:15,Y,1,87,89,1,5.1,0.5,0.5,1.4,0.4,0,3.4,1,1,0\".split(\",\"),\n",
    "                   \"1,2018-01-04 14:14:14,2018-01-04 15:11:15,Y,1,25,27,1,0.5,0.5,0.5,2.8,0.4,0,2.7,1,1,0\".split(\",\"),\n",
    "                   \"1,2020-03-04 14:14:14,2020-03-04 15:34:15,Y,1,45,46,1,0.1,0.5,0.5,1,0.4,0,4.5,1,1,0\".split(\",\"),\n",
    "                   \"1,2020-03-04 14:14:14,2020-03-04 15:46:15,Y,1,49,51,1,6.2,0.5,0.5,0.4,0.4,0.3,1.2,1,1,0.35\".split(\",\")\n",
    "                  ]\n",
    "\n",
    "repaired_fhv = [\"B01176,2018-01-04 14:14:14,\"\",16,\"\",\"\"\".split(\",\"),\n",
    "                \"B00706,2018-01-04 14:14:14,\"\",87,\"\",\"\"\".split(\",\"),\n",
    "                \"B01215,2018-01-04 14:14:14,\"\",25,\"\",\"\"\".split(\",\"),\n",
    "                \"B02627,2020-03-04 14:14:14,2020-03-04 15:34:15,45,46,1\".split(\",\"),\n",
    "                \"B01672,2020-03-04 14:14:14,2020-03-04 15:46:15,49,51,0\".split(\",\")\n",
    "                  ]\n",
    "\n",
    "\n",
    "repaired_fhvhv = [\"HV0002,B02627,2020-03-04 14:14:14,2020-03-04 15:34:15,45,46,1\".split(\",\"),\n",
    "                \"HV0003,B01674,2020-03-04 14:14:14,2020-03-04 15:46:15,49,51,0\".split(\",\"),\n",
    "                \"HV0003,B02622,2020-03-04 14:14:14,2020-03-04 15:05:15,21,21,1\".split(\",\"),\n",
    "                \"HV0005,B01672,2020-03-04 14:14:14,2020-03-04 15:11:15,26,30,0\".split(\",\")]"
   ]
  },
  {
   "cell_type": "code",
   "execution_count": 18,
   "metadata": {},
   "outputs": [
    {
     "ename": "AttributeError",
     "evalue": "'list' object has no attribute 'map'",
     "output_type": "error",
     "traceback": [
      "\u001b[1;31m---------------------------------------------------------------------------\u001b[0m",
      "\u001b[1;31mAttributeError\u001b[0m                            Traceback (most recent call last)",
      "\u001b[1;32m<ipython-input-18-397123cb77ec>\u001b[0m in \u001b[0;36m<module>\u001b[1;34m\u001b[0m\n\u001b[0;32m      6\u001b[0m \u001b[1;33m\u001b[0m\u001b[0m\n\u001b[0;32m      7\u001b[0m \u001b[1;32mfor\u001b[0m \u001b[0mdata\u001b[0m\u001b[1;33m,\u001b[0m \u001b[0midx_date\u001b[0m\u001b[1;33m,\u001b[0m \u001b[0midx_val\u001b[0m \u001b[1;32min\u001b[0m \u001b[0mzip\u001b[0m\u001b[1;33m(\u001b[0m\u001b[0mgrouped_data\u001b[0m\u001b[1;33m,\u001b[0m \u001b[0midx_dates\u001b[0m\u001b[1;33m,\u001b[0m \u001b[0midx_nbr_trip\u001b[0m\u001b[1;33m)\u001b[0m\u001b[1;33m:\u001b[0m\u001b[1;33m\u001b[0m\u001b[1;33m\u001b[0m\u001b[0m\n\u001b[1;32m----> 8\u001b[1;33m     \u001b[0mnbr_trip_per_month\u001b[0m\u001b[1;33m.\u001b[0m\u001b[0mappend\u001b[0m\u001b[1;33m(\u001b[0m\u001b[0mdata\u001b[0m\u001b[1;33m.\u001b[0m\u001b[0mmap\u001b[0m\u001b[1;33m(\u001b[0m\u001b[0mto_month\u001b[0m\u001b[1;33m(\u001b[0m\u001b[0mx\u001b[0m\u001b[1;33m,\u001b[0m\u001b[0midx_date\u001b[0m \u001b[1;33m=\u001b[0m \u001b[0midx_datex\u001b[0m\u001b[1;33m,\u001b[0m \u001b[0midx\u001b[0m \u001b[1;33m=\u001b[0m \u001b[1;33m[\u001b[0m\u001b[0midx_val\u001b[0m\u001b[1;33m]\u001b[0m\u001b[1;33m)\u001b[0m\u001b[1;33m)\u001b[0m\u001b[1;33m)\u001b[0m\u001b[1;33m.\u001b[0m\u001b[0mcount\u001b[0m\u001b[1;33m(\u001b[0m\u001b[1;33m)\u001b[0m\u001b[1;33m\u001b[0m\u001b[1;33m\u001b[0m\u001b[0m\n\u001b[0m",
      "\u001b[1;31mAttributeError\u001b[0m: 'list' object has no attribute 'map'"
     ]
    }
   ],
   "source": [
    "grouped_data = [repaired_yellow, repaired_green, repaired_fhv, repaired_fhvhv]\n",
    "idx_dates = [2,2,2,2]\n",
    "idx_nbr_trip = [1,1,1,1]\n",
    "\n",
    "nbr_trip_per_month = []\n",
    "\n",
    "for data, idx_date, idx_val in zip(grouped_data, idx_dates, idx_nbr_trip):\n",
    "    nbr_trip_per_month.append(data.map(to_month(x,idx_date = idx_datex, idx = [idx_val]))).count()"
   ]
  },
  {
   "cell_type": "code",
   "execution_count": 24,
   "metadata": {},
   "outputs": [],
   "source": []
  },
  {
   "cell_type": "code",
   "execution_count": 61,
   "metadata": {},
   "outputs": [],
   "source": [
    "from datetime import datetime as dt\n",
    "\n",
    "date1, date2 = \"2017-05-06 14:14:14\" ,\"2017-05-06 14:14:14\" \n",
    "\n",
    "date1 = dt.strptime(date1, \"%Y-%m-%d %H:%M:%S\")\n",
    "date2 = dt.strptime(date2, \"%Y-%m-%d %H:%M:%S\")\n"
   ]
  },
  {
   "cell_type": "code",
   "execution_count": 62,
   "metadata": {},
   "outputs": [],
   "source": [
    "delta = date2 - date1"
   ]
  },
  {
   "cell_type": "code",
   "execution_count": 63,
   "metadata": {},
   "outputs": [
    {
     "data": {
      "text/plain": [
       "0.0"
      ]
     },
     "execution_count": 63,
     "metadata": {},
     "output_type": "execute_result"
    }
   ],
   "source": [
    "delta.seconds/60"
   ]
  },
  {
   "cell_type": "code",
   "execution_count": 65,
   "metadata": {},
   "outputs": [],
   "source": [
    "x = delta.days*60*24 + delta.seconds/60"
   ]
  },
  {
   "cell_type": "code",
   "execution_count": 60,
   "metadata": {},
   "outputs": [
    {
     "data": {
      "text/plain": [
       "datetime.timedelta(seconds=22801)"
      ]
     },
     "execution_count": 60,
     "metadata": {},
     "output_type": "execute_result"
    }
   ],
   "source": [
    "delta"
   ]
  },
  {
   "cell_type": "code",
   "execution_count": 68,
   "metadata": {},
   "outputs": [],
   "source": [
    "def cost_per_min(x):\n",
    "    cost = float(x[1][3]) - float(x[1][2])\n",
    "    duration = dt.strptime(x[1][1], \"%Y-%m-%d %H:%M:%S\") - dt.strptime(x[1][0], \"%Y-%m-%d %H:%M:%S\")\n",
    "    duration_in_minutes = duration.days * 24 *60 + duration.seconds /60\n",
    "    try:\n",
    "        cost_min = cost/duration_in_minutes\n",
    "    except: \n",
    "        cost_min = \"div_by_0\"\n",
    "    return((x[0], cost_min))"
   ]
  },
  {
   "cell_type": "code",
   "execution_count": 70,
   "metadata": {},
   "outputs": [
    {
     "data": {
      "text/plain": [
       "('2017-05', 1.0)"
      ]
     },
     "execution_count": 70,
     "metadata": {},
     "output_type": "execute_result"
    }
   ],
   "source": [
    "x = [\"2017-05\", [\"2017-05-06 14:14:14\" ,\"2017-05-06 14:20:14\", \"0.5\", \"6.5\"]]\n",
    "cost_per_min(x)"
   ]
  },
  {
   "cell_type": "code",
   "execution_count": 76,
   "metadata": {},
   "outputs": [],
   "source": [
    "z = to_month([5,\"2017-05-06 14:14:14\",7], 1, [2])"
   ]
  },
  {
   "cell_type": "code",
   "execution_count": 78,
   "metadata": {},
   "outputs": [
    {
     "data": {
      "text/plain": [
       "7"
      ]
     },
     "execution_count": 78,
     "metadata": {},
     "output_type": "execute_result"
    }
   ],
   "source": [
    "z[1][0]"
   ]
  },
  {
   "cell_type": "code",
   "execution_count": 128,
   "metadata": {},
   "outputs": [
    {
     "name": "stderr",
     "output_type": "stream",
     "text": [
      "C:\\ProgramData\\Anaconda3\\lib\\site-packages\\pyproj\\crs\\crs.py:53: FutureWarning: '+init=<authority>:<code>' syntax is deprecated. '<authority>:<code>' is the preferred initialization method. When making the change, be mindful of axis order changes: https://pyproj4.github.io/pyproj/stable/gotchas.html#axis-order-changes-in-proj-6\n",
      "  return _prepare_from_string(\" \".join(pjargs))\n"
     ]
    }
   ],
   "source": [
    "\n",
    "\n",
    "import glob\n",
    "import pandas as pd\n",
    "import geopandas as gpd\n",
    "from shapely.geometry import Point, Polygon\n",
    "\n",
    "zones = gpd.read_file('taxi_zones/taxi_zones.shp')\n",
    "zones = zones.to_crs({'init' : 'epsg:4326'})\n",
    "rtree = zones.sindex"
   ]
  },
  {
   "cell_type": "code",
   "execution_count": 132,
   "metadata": {},
   "outputs": [
    {
     "data": {
      "text/plain": [
       "['EWR', 'Queens', 'Bronx', 'Manhattan', 'Staten Island', 'Brooklyn']"
      ]
     },
     "execution_count": 132,
     "metadata": {},
     "output_type": "execute_result"
    }
   ],
   "source": [
    "zones_id = zones[[\"LocationID\", \"borough\"]]\n",
    "\n",
    "\n",
    "[i for i in zones_id.borough.unique()]"
   ]
  },
  {
   "cell_type": "code",
   "execution_count": 74,
   "metadata": {},
   "outputs": [
    {
     "data": {
      "text/plain": [
       "'JFK Airport'"
      ]
     },
     "execution_count": 74,
     "metadata": {},
     "output_type": "execute_result"
    }
   ],
   "source": [
    "airport.iloc[1,0]"
   ]
  },
  {
   "cell_type": "code",
   "execution_count": 39,
   "metadata": {},
   "outputs": [
    {
     "data": {
      "text/plain": [
       "'Manhattan'"
      ]
     },
     "execution_count": 39,
     "metadata": {},
     "output_type": "execute_result"
    }
   ],
   "source": [
    "x = \"261\"\n",
    "y = \"263\"\n",
    "\n",
    "#a = zones_id.loc[(int(x) == (zones_id.LocationID)) & (int(y) == (zones_id.LocationID)) ].borough.iloc[0]\n",
    "finding_boro(x, y , zones_id)"
   ]
  },
  {
   "cell_type": "code",
   "execution_count": 41,
   "metadata": {},
   "outputs": [],
   "source": [
    "def finding_boro(x, y, zones_id):\n",
    "    borough1 = zones_id.loc[int(x) == (zones_id.LocationID)].borough.iloc[0]\n",
    "    borough2 = zones_id.loc[int(y) == (zones_id.LocationID)].borough.iloc[0]\n",
    "    if borough1 == borough2:\n",
    "        return (borough1)\n",
    "\n",
    "    else:\n",
    "        return (\"remove\")\n",
    "\n",
    "\n",
    "def time_diff(x, y):\n",
    "    \"\"\" Gives the time difference between two datetime object in hours\"\"\"\n",
    "    diff = dt.strptime(x, \"%Y-%m-%d %H:%M:%S\") - dt.strptime(\n",
    "        y, \"%Y-%m-%d %H:%M:%S\")\n",
    "    diff_in_hour = diff.days * 24 + diff.seconds / 3600\n",
    "    return (diff_in_hour)"
   ]
  },
  {
   "cell_type": "code",
   "execution_count": 31,
   "metadata": {},
   "outputs": [
    {
     "data": {
      "text/plain": [
       "'Manhattan'"
      ]
     },
     "execution_count": 31,
     "metadata": {},
     "output_type": "execute_result"
    }
   ],
   "source": [
    "finding_boro(\"263\", zones_id)"
   ]
  },
  {
   "cell_type": "code",
   "execution_count": null,
   "metadata": {},
   "outputs": [],
   "source": [
    "idx_dist_time = [[1, 2, 4, 7, 8], [1, 2, 8, 5,\n",
    "                                   6]]  #pu_time, do_time, dist, pu_id, do_id\n",
    "\n",
    "yellow_neigh = (final_yellow.filter(lambda x: to_month(\n",
    "    x, idx_small_dates[0], idx=idx_dist_time[0])).map(lambda x: (x[0], [\n",
    "        time_diff(x[1][1], x[1][0]), x[1][3],\n",
    "        finding_boro(x[1][3], x[1][4], zones_id)\n",
    "    ])).filter(lambda x: x[1][2] != \"remove\").map(\n",
    "        lambda x: (x[0], x[1][2], (x[1][1]) / (x[1][0]))))\n",
    "#toDF([\"date\", \"neighborhood\", \"speed\"]))\n",
    "\n",
    "zones_id = zones[[\"LocationID\", \"borough\"]]\n",
    "\n",
    "colors = [\"yellow\", \"green\", \"orange\", \"red\", \"brown\", \"salmon\"]\n",
    "\n",
    "neighborhood_yellow = []\n",
    "\n",
    "for i in zones_id.borough.unique():\n",
    "    neighborhood_yellow.append(\n",
    "        yellow_neigh.filter(lambda x: x[2] == i).map(\n",
    "            lambda x: (x[0], x[2])).grouby(lambda x: x[0]).mapValues(\n",
    "                lambda x: np.median([z for z in x])).sortByKey().collect())\n",
    "\n",
    "plotting(neighborhood_yellow,\n",
    "         \"Median Trip Speed Per Neighborhood of the Yellow Taxis\",\n",
    "         colors=colors,\n",
    "         labels=[i for i in zones_id.borough.unique()])"
   ]
  },
  {
   "cell_type": "code",
   "execution_count": null,
   "metadata": {},
   "outputs": [],
   "source": [
    "idx_dist_time = [[1, 2, 4, 7, 8], [1, 2, 8, 5,\n",
    "                                   6]]  #pu_time, do_time, dist, pu_id, do_id\n",
    "\n",
    "green_neigh = (final_green.filter(lambda x: to_month(\n",
    "    x, idx_small_dates[1], idx=idx_dist_time[1])).map(lambda x: (x[0], [\n",
    "        time_diff(x[1][1], x[1][0]), x[1][3],\n",
    "        finding_boro(x[1][3], x[1][4], zones_id)\n",
    "    ])).filter(lambda x: x[1][2] != \"remove\").map(\n",
    "        lambda x: (x[0], x[1][2], (x[1][1]) / (x[1][0]))))\n",
    "\n",
    "neighborhood_green = []\n",
    "\n",
    "for i in zones_id.borough.unique():\n",
    "    neighborhood_green.append(\n",
    "        green_neigh.filter(lambda x: x[2] == i).map(\n",
    "            lambda x: (x[0], x[2])).grouby(lambda x: x[0]).mapValues(\n",
    "                lambda x: np.median([z for z in x])).sortByKey().collect())\n",
    "\n",
    "plotting(neighborhood_green,\n",
    "         \"Median Trip Speed Per Neighborhood of the Green Taxis\",\n",
    "         colors=colors,\n",
    "         labels=[i for i in zones_id.borough.unique()])"
   ]
  },
  {
   "cell_type": "code",
   "execution_count": 76,
   "metadata": {},
   "outputs": [
    {
     "ename": "NameError",
     "evalue": "name 'final_yellow' is not defined",
     "output_type": "error",
     "traceback": [
      "\u001b[1;31m---------------------------------------------------------------------------\u001b[0m",
      "\u001b[1;31mNameError\u001b[0m                                 Traceback (most recent call last)",
      "\u001b[1;32m<ipython-input-76-ac47645b70ad>\u001b[0m in \u001b[0;36m<module>\u001b[1;34m\u001b[0m\n\u001b[1;32m----> 1\u001b[1;33m \u001b[0mfinal_yellow_end\u001b[0m \u001b[1;33m=\u001b[0m \u001b[0mfinal_yellow\u001b[0m\u001b[1;33m.\u001b[0m\u001b[0mmap\u001b[0m\u001b[1;33m(\u001b[0m\u001b[1;32mlambda\u001b[0m \u001b[0mx\u001b[0m\u001b[1;33m:\u001b[0m \u001b[1;33m(\u001b[0m\u001b[0mx\u001b[0m\u001b[1;33m[\u001b[0m\u001b[1;36m1\u001b[0m\u001b[1;33m]\u001b[0m\u001b[1;33m,\u001b[0m \u001b[0mx\u001b[0m\u001b[1;33m[\u001b[0m\u001b[1;36m2\u001b[0m\u001b[1;33m]\u001b[0m\u001b[1;33m,\u001b[0m \u001b[0mx\u001b[0m\u001b[1;33m[\u001b[0m\u001b[1;36m7\u001b[0m\u001b[1;33m]\u001b[0m\u001b[1;33m,\u001b[0m \u001b[0mx\u001b[0m\u001b[1;33m[\u001b[0m\u001b[1;36m8\u001b[0m\u001b[1;33m]\u001b[0m\u001b[1;33m)\u001b[0m\u001b[1;33m)\u001b[0m\u001b[1;33m\u001b[0m\u001b[1;33m\u001b[0m\u001b[0m\n\u001b[0m\u001b[0;32m      2\u001b[0m \u001b[0mfinal_green_end\u001b[0m \u001b[1;33m=\u001b[0m \u001b[0mfinal_green\u001b[0m\u001b[1;33m.\u001b[0m\u001b[0mmap\u001b[0m\u001b[1;33m(\u001b[0m\u001b[1;32mlambda\u001b[0m \u001b[0mx\u001b[0m\u001b[1;33m:\u001b[0m \u001b[1;33m(\u001b[0m\u001b[0mx\u001b[0m\u001b[1;33m[\u001b[0m\u001b[1;36m1\u001b[0m\u001b[1;33m]\u001b[0m\u001b[1;33m,\u001b[0m \u001b[0mx\u001b[0m\u001b[1;33m[\u001b[0m\u001b[1;36m2\u001b[0m\u001b[1;33m]\u001b[0m\u001b[1;33m,\u001b[0m \u001b[0mx\u001b[0m\u001b[1;33m[\u001b[0m\u001b[1;36m5\u001b[0m\u001b[1;33m]\u001b[0m\u001b[1;33m,\u001b[0m \u001b[0mx\u001b[0m\u001b[1;33m[\u001b[0m\u001b[1;36m6\u001b[0m\u001b[1;33m]\u001b[0m\u001b[1;33m)\u001b[0m\u001b[1;33m)\u001b[0m\u001b[1;33m\u001b[0m\u001b[1;33m\u001b[0m\u001b[0m\n\u001b[0;32m      3\u001b[0m \u001b[0mfinal_fhv_end\u001b[0m \u001b[1;33m=\u001b[0m \u001b[0mfinal_fhv\u001b[0m\u001b[1;33m.\u001b[0m\u001b[0mmap\u001b[0m\u001b[1;33m(\u001b[0m\u001b[1;32mlambda\u001b[0m \u001b[0mx\u001b[0m\u001b[1;33m:\u001b[0m \u001b[1;33m(\u001b[0m\u001b[0mx\u001b[0m\u001b[1;33m[\u001b[0m\u001b[1;36m1\u001b[0m\u001b[1;33m]\u001b[0m\u001b[1;33m,\u001b[0m \u001b[0mx\u001b[0m\u001b[1;33m[\u001b[0m\u001b[1;36m2\u001b[0m\u001b[1;33m]\u001b[0m\u001b[1;33m,\u001b[0m \u001b[0mx\u001b[0m\u001b[1;33m[\u001b[0m\u001b[1;36m3\u001b[0m\u001b[1;33m]\u001b[0m\u001b[1;33m,\u001b[0m \u001b[0mx\u001b[0m\u001b[1;33m[\u001b[0m\u001b[1;36m4\u001b[0m\u001b[1;33m]\u001b[0m\u001b[1;33m)\u001b[0m\u001b[1;33m)\u001b[0m\u001b[1;33m\u001b[0m\u001b[1;33m\u001b[0m\u001b[0m\n\u001b[0;32m      4\u001b[0m \u001b[0mfinal_fhvhv_end\u001b[0m \u001b[1;33m=\u001b[0m \u001b[0mfinal_fhvhv\u001b[0m\u001b[1;33m.\u001b[0m\u001b[0mmap\u001b[0m\u001b[1;33m(\u001b[0m\u001b[1;32mlambda\u001b[0m \u001b[0mx\u001b[0m\u001b[1;33m:\u001b[0m \u001b[1;33m(\u001b[0m\u001b[0mx\u001b[0m\u001b[1;33m[\u001b[0m\u001b[1;36m2\u001b[0m\u001b[1;33m]\u001b[0m\u001b[1;33m,\u001b[0m \u001b[0mx\u001b[0m\u001b[1;33m[\u001b[0m\u001b[1;36m3\u001b[0m\u001b[1;33m]\u001b[0m\u001b[1;33m,\u001b[0m \u001b[0mx\u001b[0m\u001b[1;33m[\u001b[0m\u001b[1;36m4\u001b[0m\u001b[1;33m]\u001b[0m\u001b[1;33m,\u001b[0m \u001b[0mx\u001b[0m\u001b[1;33m[\u001b[0m\u001b[1;36m5\u001b[0m\u001b[1;33m]\u001b[0m\u001b[1;33m)\u001b[0m\u001b[1;33m)\u001b[0m\u001b[1;33m\u001b[0m\u001b[1;33m\u001b[0m\u001b[0m\n\u001b[0;32m      5\u001b[0m \u001b[1;33m\u001b[0m\u001b[0m\n",
      "\u001b[1;31mNameError\u001b[0m: name 'final_yellow' is not defined"
     ]
    }
   ],
   "source": [
    "def time_diff_min(x, y):\n",
    "    \"\"\" Gives the time difference between two datetime object in minutes\"\"\"\n",
    "    diff = dt.strptime(x, \"%Y-%m-%d %H:%M:%S\") - dt.strptime(\n",
    "        y, \"%Y-%m-%d %H:%M:%S\")\n",
    "    diff_in_min = diff.days * 24 * 60 + diff.seconds / 60\n",
    "    return (diff_in_min)\n",
    "\n",
    "\n",
    "def bucketing(pu_time):\n",
    "    b = dt.strptime(pu_time, \"%Y-%m-%d %H:%M:%S\").hour\n",
    "    c = 0\n",
    "    while True:\n",
    "        if c <= b < c + 1:\n",
    "            return (str(c) + \"-\" + str(c + 1) + \"h\")\n",
    "        else:\n",
    "            c = c + 1\n",
    "\n",
    "\n",
    "final_yellow_end = final_yellow.map(\n",
    "    lambda x: (x[1], x[2], x[7], x[8]))  #pu_time, do_time, pu_loc, do_loc\n",
    "final_green_end = final_green.map(lambda x: (x[1], x[2], x[5], x[6]))\n",
    "final_fhv_end = final_fhv.map(lambda x: (x[1], x[2], x[3], x[4]))\n",
    "final_fhvhv_end = final_fhvhv.map(lambda x: (x[2], x[3], x[4], x[5]))\n",
    "\n",
    "merged_data = final_yellow_end.union(final_green_end).union(\n",
    "    final_fhv_end).union(final_fhvhv_end)\n",
    "\n",
    "airport = zones.loc[zones.zone.isin(\n",
    "    [\"Newark Airport\", \"JFK Airport\",\n",
    "     \"LaGuardia Airport\"])][[\"zone\", \"LocationID\"]]\n",
    "\n",
    "starting_id = [\"161\", \"162\", \"163\", \"164\"]\n",
    "starting_name = \"Manhattan Midtown\"\n",
    "\n",
    "\n",
    "def median_speed_airport(starting_id,\n",
    "                         starting_name,\n",
    "                         merged_data=merged_data,\n",
    "                         airport=airport):\n",
    "    data = []\n",
    "\n",
    "    for airport_idx, airport_name in zip(airport.iloc[:, 1], airport.iloc[:,\n",
    "                                                                          0]):\n",
    "        data.append(\n",
    "            merged_data.filter(lambda x: (x[3] == str(airport_idx)) and\n",
    "                               (x[2] in starting_id) and (x[1] != \"\")).\n",
    "            map(lambda x:\n",
    "                (bucketing(x[0]), time_diff_min(x[1]))).groupByKey().mapValues(\n",
    "                    lambda x: np.median([i for i in x])).sortByKey().collect())\n",
    "\n",
    "    plotting(data,\n",
    "             \"Median speed to airports from \" + starting_name,\n",
    "             labels=[\"Newark Airport\", \"JFK Airport\", \"LaGuardia Airport\"],\n",
    "             colors=[\"yellow\", \"green\", \"orange\"])\n",
    "\n",
    "\n",
    "median_speed_airport(\n",
    "    [\"161\", \"162\", \"163\", \"164\"],\n",
    "    \"Manhattan Midtown\")  #maybe run in separate cell, I fear it\n",
    "#might only print the last one\n",
    "median_speed_airport([\"63\", \"246\"], \"Chelsea\")\n",
    "median_speed_airport([\"230\"], \"Times Square\")\n",
    "median_speed_airport([\"100\"], \"Garment District\")"
   ]
  },
  {
   "cell_type": "code",
   "execution_count": 81,
   "metadata": {},
   "outputs": [
    {
     "data": {
      "text/plain": [
       "3.0"
      ]
     },
     "execution_count": 81,
     "metadata": {},
     "output_type": "execute_result"
    }
   ],
   "source": [
    "np.median([0,1,2,3,4,5,6])"
   ]
  },
  {
   "cell_type": "code",
   "execution_count": 83,
   "metadata": {},
   "outputs": [
    {
     "ename": "TypeError",
     "evalue": "'<' not supported between instances of 'datetime.datetime' and 'str'",
     "output_type": "error",
     "traceback": [
      "\u001b[1;31m---------------------------------------------------------------------------\u001b[0m",
      "\u001b[1;31mTypeError\u001b[0m                                 Traceback (most recent call last)",
      "\u001b[1;32m<ipython-input-83-11b2ed9854cf>\u001b[0m in \u001b[0;36m<module>\u001b[1;34m\u001b[0m\n\u001b[0;32m      1\u001b[0m \u001b[0ma\u001b[0m \u001b[1;33m=\u001b[0m \u001b[0mdt\u001b[0m\u001b[1;33m.\u001b[0m\u001b[0mstrptime\u001b[0m\u001b[1;33m(\u001b[0m\u001b[1;34m\"2018-01-04 14:14:14\"\u001b[0m\u001b[1;33m,\u001b[0m \u001b[1;34m\"%Y-%m-%d %H:%M:%S\"\u001b[0m\u001b[1;33m)\u001b[0m\u001b[1;33m\u001b[0m\u001b[1;33m\u001b[0m\u001b[0m\n\u001b[1;32m----> 2\u001b[1;33m \u001b[0mdt\u001b[0m\u001b[1;33m.\u001b[0m\u001b[0mstrptime\u001b[0m\u001b[1;33m(\u001b[0m\u001b[1;34m\"15\"\u001b[0m\u001b[1;33m,\u001b[0m \u001b[1;34m\"%H\"\u001b[0m\u001b[1;33m)\u001b[0m \u001b[1;33m<\u001b[0m \u001b[0mdt\u001b[0m\u001b[1;33m.\u001b[0m\u001b[0mstrftime\u001b[0m\u001b[1;33m(\u001b[0m\u001b[0ma\u001b[0m\u001b[1;33m,\u001b[0m \u001b[1;34m'%H-%M'\u001b[0m\u001b[1;33m)\u001b[0m\u001b[1;33m\u001b[0m\u001b[1;33m\u001b[0m\u001b[0m\n\u001b[0m",
      "\u001b[1;31mTypeError\u001b[0m: '<' not supported between instances of 'datetime.datetime' and 'str'"
     ]
    }
   ],
   "source": [
    "a = dt.strptime(\"2018-01-04 14:14:14\", \"%Y-%m-%d %H:%M:%S\")\n",
    "dt.strptime(\"15\", \"%H\") < dt.strftime(a, '%H-%M')"
   ]
  },
  {
   "cell_type": "code",
   "execution_count": 84,
   "metadata": {},
   "outputs": [
    {
     "data": {
      "text/plain": [
       "datetime.datetime(1900, 1, 1, 15, 0)"
      ]
     },
     "execution_count": 84,
     "metadata": {},
     "output_type": "execute_result"
    }
   ],
   "source": [
    "dt.strptime(\"15\", \"%H\")"
   ]
  },
  {
   "cell_type": "code",
   "execution_count": 120,
   "metadata": {},
   "outputs": [
    {
     "data": {
      "text/plain": [
       "True"
      ]
     },
     "execution_count": 120,
     "metadata": {},
     "output_type": "execute_result"
    }
   ],
   "source": [
    "a = \"2018-01-04 14:14:14\"\n",
    "\"14\" <= a[11:13] < \"15\" # ==> 14-15"
   ]
  },
  {
   "cell_type": "code",
   "execution_count": 95,
   "metadata": {},
   "outputs": [
    {
     "data": {
      "text/plain": [
       "0"
      ]
     },
     "execution_count": 95,
     "metadata": {},
     "output_type": "execute_result"
    }
   ],
   "source": [
    "int(a[11:13])"
   ]
  },
  {
   "cell_type": "code",
   "execution_count": 126,
   "metadata": {},
   "outputs": [
    {
     "data": {
      "text/plain": [
       "'14-15h'"
      ]
     },
     "execution_count": 126,
     "metadata": {},
     "output_type": "execute_result"
    }
   ],
   "source": [
    "bucketing(a)\n"
   ]
  },
  {
   "cell_type": "code",
   "execution_count": 117,
   "metadata": {},
   "outputs": [
    {
     "name": "stdout",
     "output_type": "stream",
     "text": [
      "0-1h\n"
     ]
    }
   ],
   "source": []
  },
  {
   "cell_type": "code",
   "execution_count": null,
   "metadata": {},
   "outputs": [],
   "source": []
  }
 ],
 "metadata": {
  "kernelspec": {
   "display_name": "Python 3",
   "language": "python",
   "name": "python3"
  },
  "language_info": {
   "codemirror_mode": {
    "name": "ipython",
    "version": 3
   },
   "file_extension": ".py",
   "mimetype": "text/x-python",
   "name": "python",
   "nbconvert_exporter": "python",
   "pygments_lexer": "ipython3",
   "version": "3.8.3"
  },
  "toc": {
   "base_numbering": 1,
   "nav_menu": {},
   "number_sections": true,
   "sideBar": true,
   "skip_h1_title": true,
   "title_cell": "Table of Contents",
   "title_sidebar": "Contents",
   "toc_cell": true,
   "toc_position": {
    "height": "calc(100% - 180px)",
    "left": "10px",
    "top": "150px",
    "width": "165px"
   },
   "toc_section_display": true,
   "toc_window_display": true
  }
 },
 "nbformat": 4,
 "nbformat_minor": 4
}
